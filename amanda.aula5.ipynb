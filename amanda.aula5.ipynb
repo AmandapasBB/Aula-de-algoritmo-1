{
 "cells": [
  {
   "cell_type": "code",
   "execution_count": 2,
   "metadata": {},
   "outputs": [],
   "source": [
    "anoDoCarro = int(input (\"digite o ano do carro\"))\n",
    "\n",
    "valorDoCarro = int(input (\"Digite o valor do carro\"))\n",
    "\n",
    "O ano do carro é anterior a 1990\n",
    "if < 1990 \n",
    "imposto = valorDoCarro * 0,01\n",
    "\n",
    "O ano do carro é após 1990\n",
    "if >= 1990\n",
    "imposto = valorDoCarro * 0,015\n"
   ]
  },
  {
   "cell_type": "code",
   "execution_count": 14,
   "metadata": {},
   "outputs": [
    {
     "ename": "IndentationError",
     "evalue": "unexpected indent (1578115659.py, line 16)",
     "output_type": "error",
     "traceback": [
      "\u001b[1;36m  Cell \u001b[1;32mIn[14], line 16\u001b[1;36m\u001b[0m\n\u001b[1;33m    novoSalario = salario + 40/100\u001b[0m\n\u001b[1;37m    ^\u001b[0m\n\u001b[1;31mIndentationError\u001b[0m\u001b[1;31m:\u001b[0m unexpected indent\n"
     ]
    }
   ],
   "source": [
    "\n",
    "#Leia o salário\n",
    "salario = float(input(\"digite aqui o seu salario\"))\n",
    "cargo = input (\"Digite aqui seu cargo\")\n",
    "\n",
    "#Tabela de cargos\n",
    "if (cargo101_gerente) == 10/100:\n",
    "    novoSalario = salario + 10/100\n",
    "\n",
    "elif (cargo102_engenheiro) == 20/100:\n",
    "    novoSalario = salario + 20/100\n",
    "\n",
    "elif (cargo103_tecnico) == 30/100:\n",
    "    novoSalario = salario + 30/100\n",
    "\n",
    "else:  40/100\n",
    "    novoSalario = salario + 40/100\n",
    "\n",
    "\n",
    "print (Seu salário era de \"salario\" e agora é \"novoSalario\" )\n"
   ]
  },
  {
   "cell_type": "code",
   "execution_count": null,
   "metadata": {},
   "outputs": [],
   "source": []
  },
  {
   "cell_type": "code",
   "execution_count": null,
   "metadata": {},
   "outputs": [],
   "source": []
  }
 ],
 "metadata": {
  "kernelspec": {
   "display_name": "Python 3",
   "language": "python",
   "name": "python3"
  },
  "language_info": {
   "codemirror_mode": {
    "name": "ipython",
    "version": 3
   },
   "file_extension": ".py",
   "mimetype": "text/x-python",
   "name": "python",
   "nbconvert_exporter": "python",
   "pygments_lexer": "ipython3",
   "version": "3.11.9"
  }
 },
 "nbformat": 4,
 "nbformat_minor": 2
}
